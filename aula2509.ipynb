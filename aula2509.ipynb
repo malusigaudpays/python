{
 "cells": [
  {
   "cell_type": "code",
   "execution_count": 30,
   "id": "5cb816d8",
   "metadata": {},
   "outputs": [
    {
     "name": "stdout",
     "output_type": "stream",
     "text": [
      "Hello, world! :)\n"
     ]
    }
   ],
   "source": [
    "print('Hello, world! :)')"
   ]
  },
  {
   "cell_type": "code",
   "execution_count": 22,
   "id": "a0710b0e",
   "metadata": {},
   "outputs": [
    {
     "name": "stdout",
     "output_type": "stream",
     "text": [
      "Olá, Malu !\n"
     ]
    }
   ],
   "source": [
    "#print('bem-vindos à aula!')\n",
    "#print(10+5)\n",
    "#print('Resultado:', 10+2)\n",
    "nome = input('Digite seu nome:')\n",
    "print('Olá,', nome, '!')"
   ]
  },
  {
   "cell_type": "code",
   "execution_count": 20,
   "id": "273e78f4",
   "metadata": {},
   "outputs": [
    {
     "name": "stdout",
     "output_type": "stream",
     "text": [
      "Oi! Seu nome é Malu e você tem 18 anos! ( •̀ ω •́ )✧\n"
     ]
    }
   ],
   "source": [
    "nome = input('Escreva seu nome:')\n",
    "idade = int(input('Escreva sua idade:'))\n",
    "print('Oi! Seu nome é', nome, 'e você tem', idade, 'anos! ( •̀ ω •́ )✧')"
   ]
  },
  {
   "cell_type": "code",
   "execution_count": 19,
   "id": "b011f0bc",
   "metadata": {},
   "outputs": [
    {
     "name": "stdout",
     "output_type": "stream",
     "text": [
      "A soma é: 65\n"
     ]
    }
   ],
   "source": [
    "n1 = int(input('Digite um número:'))\n",
    "n2 = int(input('Digite outro número:'))\n",
    "soma = n1 + n2\n",
    "print('A soma é:', soma)"
   ]
  },
  {
   "cell_type": "code",
   "execution_count": 24,
   "id": "0d12ef9d",
   "metadata": {},
   "outputs": [
    {
     "name": "stdout",
     "output_type": "stream",
     "text": [
      "Os resultados são: 26 18 88 5.5\n"
     ]
    }
   ],
   "source": [
    "n1 = int(input('Digite um número.'))\n",
    "n2 = int(input('Digite algum outro número!'))\n",
    "soma = n1+n2\n",
    "subtração = n2-n1\n",
    "multiplicação = n1*n2\n",
    "divisão = n2/n1\n",
    "print('Os resultados são:', soma, subtração, multiplicação, divisão)"
   ]
  },
  {
   "cell_type": "code",
   "execution_count": 25,
   "id": "b60f98b7",
   "metadata": {},
   "outputs": [
    {
     "name": "stdout",
     "output_type": "stream",
     "text": [
      "Então, Malu você vai pagar um total de 17 reais. Tenha um bom dia!\n"
     ]
    }
   ],
   "source": [
    "nome = input('Olá! Qual é o seu nome?')\n",
    "p1 = int(input('Quanto é esse produto?'))\n",
    "p2 = int(input('QUal o valor desse outro produto?'))\n",
    "total = p1+p2\n",
    "print('Então,', nome, 'você vai pagar um total de', total, 'reais. Tenha um bom dia!')"
   ]
  },
  {
   "cell_type": "code",
   "execution_count": 26,
   "id": "ae77ec17",
   "metadata": {},
   "outputs": [
    {
     "name": "stdout",
     "output_type": "stream",
     "text": [
      "A média das notas das matérias de Malu é igual a 7.9\n"
     ]
    }
   ],
   "source": [
    "nome = input('Nome?')\n",
    "n1 = float(input('Nota da matéria 1?'))\n",
    "n2 = float(input('NOta da matéria 2?'))\n",
    "média = (n1+n2)/2\n",
    "print('A média das notas das matérias de', nome, 'é igual a', média)"
   ]
  },
  {
   "cell_type": "code",
   "execution_count": 28,
   "id": "6d20c4ba",
   "metadata": {},
   "outputs": [
    {
     "name": "stdout",
     "output_type": "stream",
     "text": [
      "Você já é maior de idade!\n"
     ]
    }
   ],
   "source": [
    "idade = int(input('Diga-me, qual a sua idade?'))\n",
    "if idade >= 18 :\n",
    "    print('Você já é maior de idade!')\n",
    "else : \n",
    "    print('Você é menor de idade.') "
   ]
  },
  {
   "cell_type": "code",
   "execution_count": 32,
   "id": "b27453b5",
   "metadata": {},
   "outputs": [
    {
     "name": "stdout",
     "output_type": "stream",
     "text": [
      "Parabéns, passou de ano!!\n"
     ]
    }
   ],
   "source": [
    "nome = input('Nome?')\n",
    "média = int(input('Média nessa matéria?'))\n",
    "if média >= 6 :\n",
    "    print('Parabéns, passou de ano!!')\n",
    "else :\n",
    "    print('Putz... ano que vem tem mais!')"
   ]
  },
  {
   "cell_type": "code",
   "execution_count": 35,
   "id": "73893e13",
   "metadata": {},
   "outputs": [
    {
     "name": "stdout",
     "output_type": "stream",
     "text": [
      "Passou, boa.\n"
     ]
    }
   ],
   "source": [
    "média = float(input('Qual foi a sua média?'))\n",
    "if média >= 6 :\n",
    "    print('Passou, boa.')\n",
    "elif média >= 4 :\n",
    "    print('Ops, vai pra recuperação.')\n",
    "else :\n",
    "    print('Reprovou.')"
   ]
  },
  {
   "cell_type": "code",
   "execution_count": 41,
   "id": "bb2e858d",
   "metadata": {},
   "outputs": [
    {
     "name": "stdout",
     "output_type": "stream",
     "text": [
      "Aprovada, com média igual a 7.166666666666667\n"
     ]
    }
   ],
   "source": [
    "nome = input('Nome?')\n",
    "n1 = float(input('nota 1?'))\n",
    "n2 = float(input('nota 2?'))\n",
    "n3 = float(input('nota 3?'))\n",
    "média = (n1+n2+n3)/3\n",
    "if média >= 6 :\n",
    "    print('Aprovada, com média igual a', média)\n",
    "elif média >= 4 and média <= 5.9 :\n",
    "    print('Ficou de rec, sua média tá,', média)\n",
    "else:\n",
    "    print('Reprovada, tirou', média)"
   ]
  },
  {
   "cell_type": "code",
   "execution_count": 45,
   "id": "69627432",
   "metadata": {},
   "outputs": [
    {
     "name": "stdout",
     "output_type": "stream",
     "text": [
      "Lista de espera\n"
     ]
    }
   ],
   "source": [
    "idade = int(input('Sua idade?'))\n",
    "experiência = int(input('Há quantos anos você trabalha com isso?'))\n",
    "facul = input('Completou fcauldade? Digite (S/N)')\n",
    "inglês = input('Fala inglês? Digite (S/N)')\n",
    "if idade >= 21 and experiência >= 2 and facul=='S' and inglês=='S' :\n",
    "    print('Aprovado')\n",
    "elif idade<=18 and idade >=21 or facul=='S' and inglês=='N' :\n",
    "    print('Lista de espera')\n",
    "else :\n",
    "    print('Reprovado')"
   ]
  }
 ],
 "metadata": {
  "kernelspec": {
   "display_name": "base",
   "language": "python",
   "name": "python3"
  },
  "language_info": {
   "codemirror_mode": {
    "name": "ipython",
    "version": 3
   },
   "file_extension": ".py",
   "mimetype": "text/x-python",
   "name": "python",
   "nbconvert_exporter": "python",
   "pygments_lexer": "ipython3",
   "version": "3.12.7"
  }
 },
 "nbformat": 4,
 "nbformat_minor": 5
}
